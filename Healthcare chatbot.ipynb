{
 "cells": [
  {
   "cell_type": "code",
   "execution_count": 15,
   "metadata": {},
   "outputs": [
    {
     "name": "stdout",
     "output_type": "stream",
     "text": [
      "[nltk_data] Downloading package stopwords to\n",
      "[nltk_data]     C:\\Users\\User\\AppData\\Roaming\\nltk_data...\n",
      "[nltk_data]   Package stopwords is already up-to-date!\n",
      "[nltk_data] Downloading package wordnet to\n",
      "[nltk_data]     C:\\Users\\User\\AppData\\Roaming\\nltk_data...\n",
      "[nltk_data]   Package wordnet is already up-to-date!\n"
     ]
    }
   ],
   "source": [
    "#Step 1: remove \" : \" and \" - \" characters and store in a new file using reg ex\n",
    "import re\n",
    "from sklearn import svm,datasets\n",
    "import pandas as pd\n",
    "import numpy as np\n",
    "import matplotlib.pyplot as plt\n",
    "f1 = open('dataset1.txt','w',encoding='UTF-8')\n",
    "with open ('dataset_medical_chatbot.txt','r',encoding='UTF-8') as myfile:\n",
    "    s=myfile.read()\n",
    "    s = re.sub(r'[:]', '', s)\n",
    "    s = re.sub(r'[-]', '', s)\n",
    "    f1.write(s)\n",
    "f1.close()\n",
    "\n",
    "#Step 2: Using nltk remove digits and punctuations and store each line in a list\n",
    "import nltk\n",
    "from nltk.corpus import stopwords\n",
    "from nltk.stem import WordNetLemmatizer\n",
    "nltk.download('stopwords')\n",
    "nltk.download('wordnet')\n",
    "import string\n",
    "def text_process(text):    \n",
    "    stemmer = WordNetLemmatizer()\n",
    "    nopunc = ''.join([char for char in text if char not in string.punctuation])\n",
    "    nopunc = ''.join([i for i in nopunc if not i.isdigit()])\n",
    "    return [stemmer.lemmatize(word) for word in nopunc]\n",
    "dataset=[]\n",
    "with open('dataset1.txt', 'r') as file:\n",
    "    for line in file:\n",
    "        array=[]\n",
    "        array = text_process(line)\n",
    "        X=''\n",
    "        for i in range(0,len(array)-1):\n",
    "                X+=array[i]+''\n",
    "        dataset.append(X)\n",
    "dataset= np.asarray(dataset)\n",
    "\n",
    "import numpy as np\n",
    "from sklearn.model_selection import train_test_split\n",
    "\n",
    "#Step 3: Divide dataset into questions (user query) and answers (from chatbot)\n",
    "Y=[]\n",
    "X=[]\n",
    "for i in range(0,len(dataset)):\n",
    "    if(dataset[i].split(\" \")[0]=='user'):\n",
    "        X.append(dataset[i])\n",
    "    elif(dataset[i].split(\" \")[0]=='chatbot'):\n",
    "            Y.append(dataset[i])\n",
    "question=np.asarray(X)\n",
    "answer=np.asarray(Y)\n",
    "\n",
    "\n"
   ]
  },
  {
   "cell_type": "code",
   "execution_count": 16,
   "metadata": {},
   "outputs": [
    {
     "data": {
      "text/plain": [
       "<matplotlib.collections.PathCollection at 0x1984df424a8>"
      ]
     },
     "execution_count": 16,
     "metadata": {},
     "output_type": "execute_result"
    },
    {
     "data": {
      "image/png": "[encoded data removed]",
      "text/plain": [
       "<Figure size 432x288 with 1 Axes>"
      ]
     },
     "metadata": {},
     "output_type": "display_data"
    }
   ],
   "source": [
    "#Step 4: Do a train test split for both the questions and answers\n",
    "x_train,x_test=train_test_split(question,test_size=0.33,shuffle=False)\n",
    "answer_train,answer_test=train_test_split(answer,test_size=0.33, shuffle=False)\n",
    "\n",
    "#Step 5: use CountVectorizer to convert the strings into a word count\n",
    "from sklearn.feature_extraction.text import CountVectorizer\n",
    "from sklearn.decomposition import PCA\n",
    "model = CountVectorizer()\n",
    "model.fit(x_train)\n",
    "features = model.transform(x_train)\n",
    " \n",
    "#Step 6: Use K means clustering algorithm with 60 clusters\n",
    "from sklearn.cluster import KMeans\n",
    "km = KMeans(n_clusters=60, n_init=100, init=\"k-means++\")\n",
    "km.fit(features)\n",
    "km.predict(features)\n",
    "labels=km.labels_\n",
    "\n",
    "#Step 7: visualization of the graph for the algorithm\n",
    "pca = PCA (n_components=60)\n",
    "reduced_features = pca.fit_transform(features.toarray())\n",
    "reduced_cluster_centers = pca.transform(km.cluster_centers_)\n",
    "import matplotlib.pyplot as plt\n",
    "plt.scatter(reduced_features[:,0], reduced_features[:,1], c=km.predict(features))\n",
    "plt.scatter(reduced_cluster_centers[:, 0], reduced_cluster_centers[:,1], marker='x', s=150, c='b')"
   ]
  },
  {
   "cell_type": "code",
   "execution_count": 17,
   "metadata": {},
   "outputs": [
    {
     "name": "stdout",
     "output_type": "stream",
     "text": [
      "0.7387425470526271\n"
     ]
    }
   ],
   "source": [
    "#Step 8: Homogeneity Score\n",
    "from sklearn.metrics import homogeneity_score\n",
    "print(homogeneity_score(x_train, km.predict(features)))\n",
    "\n"
   ]
  },
  {
   "cell_type": "code",
   "execution_count": 18,
   "metadata": {},
   "outputs": [
    {
     "name": "stdout",
     "output_type": "stream",
     "text": [
      "user  i live in Kolkata\n",
      "4\n",
      "user  my age is \n",
      "3\n"
     ]
    }
   ],
   "source": [
    "#Step 9: To check if a sample from training set and same sample from test set gives the same cluster index\n",
    "\n",
    "#Compute cluster centers and predict cluster index for each sample.\n",
    "train_cluster=km.fit_predict(model.transform(x_train))\n",
    "\n",
    "#By trial and error check which index has same user query in x_train and x_test\n",
    "print(x_train[2])\n",
    "print(train_cluster[2])\n",
    "\n",
    "#Predict the closest cluster each sample in X belongs to.\n",
    "test_cluster=km.predict(model.transform(x_test))\n",
    "\n",
    "print(x_test[0])\n",
    "print(test_cluster[0]) "
   ]
  },
  {
   "cell_type": "code",
   "execution_count": 19,
   "metadata": {},
   "outputs": [
    {
     "name": "stdout",
     "output_type": "stream",
     "text": [
      "[4]\n"
     ]
    }
   ],
   "source": [
    "#Step 10: To check for some new data\n",
    "lines_to_predict=['user  I live in hyderabad']\n",
    "cluster_predicted=km.predict(model.transform(lines_to_predict))\n",
    "print(cluster_predicted)\n",
    "\n"
   ]
  },
  {
   "cell_type": "code",
   "execution_count": null,
   "metadata": {},
   "outputs": [],
   "source": []
  }
 ],
 "metadata": {
  "kernelspec": {
   "display_name": "Python 3",
   "language": "python",
   "name": "python3"
  },
  "language_info": {
   "codemirror_mode": {
    "name": "ipython",
    "version": 3
   },
   "file_extension": ".py",
   "mimetype": "text/x-python",
   "name": "python",
   "nbconvert_exporter": "python",
   "pygments_lexer": "ipython3",
   "version": "3.6.5"
  }
 },
 "nbformat": 4,
 "nbformat_minor": 2
}
